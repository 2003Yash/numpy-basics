{
  "nbformat": 4,
  "nbformat_minor": 0,
  "metadata": {
    "colab": {
      "provenance": [],
      "authorship_tag": "ABX9TyOD1YHPwGACMbd2vXtKo7RJ",
      "include_colab_link": true
    },
    "kernelspec": {
      "name": "python3",
      "display_name": "Python 3"
    },
    "language_info": {
      "name": "python"
    }
  },
  "cells": [
    {
      "cell_type": "markdown",
      "metadata": {
        "id": "view-in-github",
        "colab_type": "text"
      },
      "source": [
        "<a href=\"https://colab.research.google.com/github/2003Yash/numpy-basics/blob/main/Numpy_Basics.ipynb\" target=\"_parent\"><img src=\"https://colab.research.google.com/assets/colab-badge.svg\" alt=\"Open In Colab\"/></a>"
      ]
    },
    {
      "cell_type": "code",
      "execution_count": null,
      "metadata": {
        "id": "jDQGYtuWFLhA"
      },
      "outputs": [],
      "source": [
        "# NUMPY is scientifc form of storing multi dimensional data arrays\n",
        "# NUMPY is better than lists in python since comparitibely they are super fast than lists\n",
        "\n",
        "# we usually put lists of python in an numpy array for faster processing"
      ]
    },
    {
      "cell_type": "markdown",
      "source": [
        "Basics"
      ],
      "metadata": {
        "id": "0bfrVyQkLeWb"
      }
    },
    {
      "cell_type": "code",
      "source": [
        "#Getting numpy\n",
        "import numpy as np"
      ],
      "metadata": {
        "id": "_RJn36L4GUkm"
      },
      "execution_count": null,
      "outputs": []
    },
    {
      "cell_type": "code",
      "source": [
        "#1D array\n",
        "a = np.array([1,2,3])\n",
        "print(a)"
      ],
      "metadata": {
        "colab": {
          "base_uri": "https://localhost:8080/"
        },
        "id": "vaOdc15hGb0S",
        "outputId": "fd5a19d5-97a2-4e98-add9-9c989fe4bda7"
      },
      "execution_count": null,
      "outputs": [
        {
          "output_type": "stream",
          "name": "stdout",
          "text": [
            "[1 2 3]\n"
          ]
        }
      ]
    },
    {
      "cell_type": "code",
      "source": [
        "#2D array\n",
        "b = np.array([[9.0,8.0,7.0],[6.0,5.0,4.0]])\n",
        "print(b)"
      ],
      "metadata": {
        "colab": {
          "base_uri": "https://localhost:8080/"
        },
        "id": "K4s8TxAKHBTb",
        "outputId": "1e3d6bde-4649-427c-9e63-fbce2d85c884"
      },
      "execution_count": null,
      "outputs": [
        {
          "output_type": "stream",
          "name": "stdout",
          "text": [
            "[[9. 8. 7.]\n",
            " [6. 5. 4.]]\n"
          ]
        }
      ]
    },
    {
      "cell_type": "code",
      "source": [
        "#Getting dimensions\n",
        "b.ndim"
      ],
      "metadata": {
        "colab": {
          "base_uri": "https://localhost:8080/"
        },
        "id": "oN_tPKnOHLkb",
        "outputId": "e76924a2-1c84-4a90-bd6a-79b6d34daf5d"
      },
      "execution_count": null,
      "outputs": [
        {
          "output_type": "execute_result",
          "data": {
            "text/plain": [
              "2"
            ]
          },
          "metadata": {},
          "execution_count": 7
        }
      ]
    },
    {
      "cell_type": "code",
      "source": [
        "# Get Shape\n",
        "b.shape\n",
        "\n",
        "#(x,y) means x rows and y columns"
      ],
      "metadata": {
        "colab": {
          "base_uri": "https://localhost:8080/"
        },
        "id": "etZNJIIzH6A8",
        "outputId": "89b4360a-15a1-425b-884e-b5d1fb38e065"
      },
      "execution_count": null,
      "outputs": [
        {
          "output_type": "execute_result",
          "data": {
            "text/plain": [
              "(2, 3)"
            ]
          },
          "metadata": {},
          "execution_count": 8
        }
      ]
    },
    {
      "cell_type": "code",
      "source": [
        "# Get Type\n",
        "a.dtype\n",
        "#dtype means datatype"
      ],
      "metadata": {
        "colab": {
          "base_uri": "https://localhost:8080/"
        },
        "id": "Z1f90dtvIF7k",
        "outputId": "8c86fd59-f257-45cd-e912-3672294d047f"
      },
      "execution_count": null,
      "outputs": [
        {
          "output_type": "execute_result",
          "data": {
            "text/plain": [
              "dtype('int64')"
            ]
          },
          "metadata": {},
          "execution_count": 9
        }
      ]
    },
    {
      "cell_type": "code",
      "source": [
        "c = np.array([1,2,3,4], dtype = \"int32\")\n",
        "\n",
        "#we can explictly store values in lower bits(or) forms of int"
      ],
      "metadata": {
        "id": "LuaLeJylIUfb"
      },
      "execution_count": null,
      "outputs": []
    },
    {
      "cell_type": "code",
      "source": [
        "# Get Size\n",
        "a.itemsize"
      ],
      "metadata": {
        "colab": {
          "base_uri": "https://localhost:8080/"
        },
        "id": "tKNLYF3_Ivj1",
        "outputId": "72a25519-1db8-4120-f5a5-a74cd6d5d1cb"
      },
      "execution_count": null,
      "outputs": [
        {
          "output_type": "execute_result",
          "data": {
            "text/plain": [
              "8"
            ]
          },
          "metadata": {},
          "execution_count": 12
        }
      ]
    },
    {
      "cell_type": "code",
      "source": [
        "# Get total size\n",
        "a.nbytes\n",
        "\n",
        "# or a.itemsize * a.size"
      ],
      "metadata": {
        "colab": {
          "base_uri": "https://localhost:8080/"
        },
        "id": "V8AS8QqoI-08",
        "outputId": "eaba3e36-a5b8-4bca-d9b0-78a3a5d33039"
      },
      "execution_count": null,
      "outputs": [
        {
          "output_type": "execute_result",
          "data": {
            "text/plain": [
              "24"
            ]
          },
          "metadata": {},
          "execution_count": 13
        }
      ]
    },
    {
      "cell_type": "markdown",
      "source": [
        "Accessing/Changing specific elements, rows, columns, etc"
      ],
      "metadata": {
        "id": "U4_hWnpxJaTy"
      }
    },
    {
      "cell_type": "code",
      "source": [
        "a = np.array([[1,2,3,4,5,6,7],[8,9,10,11,12,13,14]])\n",
        "print(a)"
      ],
      "metadata": {
        "colab": {
          "base_uri": "https://localhost:8080/"
        },
        "id": "oodd7UuqJbks",
        "outputId": "8572368e-5c17-4d40-b817-465fbf146fc9"
      },
      "execution_count": null,
      "outputs": [
        {
          "output_type": "stream",
          "name": "stdout",
          "text": [
            "[[ 1  2  3  4  5  6  7]\n",
            " [ 8  9 10 11 12 13 14]]\n"
          ]
        }
      ]
    },
    {
      "cell_type": "code",
      "source": [
        "# Get a specific element [r, c]\n",
        "a[1, 5]"
      ],
      "metadata": {
        "colab": {
          "base_uri": "https://localhost:8080/"
        },
        "id": "ciX8BllmJh7K",
        "outputId": "d8a15d1d-3c0c-4cc8-9a12-a0eed8c60af9"
      },
      "execution_count": null,
      "outputs": [
        {
          "output_type": "execute_result",
          "data": {
            "text/plain": [
              "13"
            ]
          },
          "metadata": {},
          "execution_count": 15
        }
      ]
    },
    {
      "cell_type": "code",
      "source": [
        "# Get everything in a specific row\n",
        "# : defines everything\n",
        "a[0, :]"
      ],
      "metadata": {
        "colab": {
          "base_uri": "https://localhost:8080/"
        },
        "id": "7rWl040vJodd",
        "outputId": "1722d72e-580d-408f-8bef-e932f53a34f3"
      },
      "execution_count": null,
      "outputs": [
        {
          "output_type": "execute_result",
          "data": {
            "text/plain": [
              "array([1, 2, 3, 4, 5, 6, 7])"
            ]
          },
          "metadata": {},
          "execution_count": 16
        }
      ]
    },
    {
      "cell_type": "code",
      "source": [
        "# Get a specific column\n",
        "a[:, 2]"
      ],
      "metadata": {
        "colab": {
          "base_uri": "https://localhost:8080/"
        },
        "id": "Lzku24wpJ09j",
        "outputId": "0b93979a-113f-429f-dd9a-433193de7798"
      },
      "execution_count": null,
      "outputs": [
        {
          "output_type": "execute_result",
          "data": {
            "text/plain": [
              "array([ 3, 10])"
            ]
          },
          "metadata": {},
          "execution_count": 17
        }
      ]
    },
    {
      "cell_type": "code",
      "source": [
        "# Getting a little more fancy [startindex:endindex:stepsize]\n",
        "a[0, 1:-1:2]\n",
        "# or a[0, 1:6:2] , since 1 represents 2 and we end at 6th index or. -1 means foreveer"
      ],
      "metadata": {
        "id": "8CmngRUaKF25"
      },
      "execution_count": null,
      "outputs": []
    },
    {
      "cell_type": "code",
      "source": [
        "# Changing items\n",
        "a[1,5] = 20\n",
        "print(a)"
      ],
      "metadata": {
        "colab": {
          "base_uri": "https://localhost:8080/"
        },
        "id": "tPXOZlLcKzlK",
        "outputId": "60e5f618-470b-4564-dbe7-537f4b38ab6d"
      },
      "execution_count": null,
      "outputs": [
        {
          "output_type": "stream",
          "name": "stdout",
          "text": [
            "[[ 1  2  3  4  5  6  7]\n",
            " [ 8  9 10 11 12 20 14]]\n"
          ]
        }
      ]
    },
    {
      "cell_type": "code",
      "source": [
        "a[:,2] = [1,2]\n",
        "a\n",
        "#no need to explicitly write print in colab"
      ],
      "metadata": {
        "colab": {
          "base_uri": "https://localhost:8080/"
        },
        "id": "YArfKR8iLK6y",
        "outputId": "5883b585-5ca1-4a29-b81f-00d256e29f57"
      },
      "execution_count": null,
      "outputs": [
        {
          "output_type": "execute_result",
          "data": {
            "text/plain": [
              "array([[ 1,  2,  1,  4,  5,  6,  7],\n",
              "       [ 8,  9,  2, 11, 12, 20, 14]])"
            ]
          },
          "metadata": {},
          "execution_count": 22
        }
      ]
    },
    {
      "cell_type": "markdown",
      "source": [
        "3D example"
      ],
      "metadata": {
        "id": "bCdOTY2I6rWH"
      }
    },
    {
      "cell_type": "code",
      "source": [
        "b = np.array([[[1,2],[3,4]],[[5,6],[7,8]]])\n",
        "print(b)"
      ],
      "metadata": {
        "colab": {
          "base_uri": "https://localhost:8080/"
        },
        "id": "YMzSAtop6w8C",
        "outputId": "ba285b3a-aecd-4891-9979-a3b62c0a4ded"
      },
      "execution_count": null,
      "outputs": [
        {
          "output_type": "stream",
          "name": "stdout",
          "text": [
            "[[[1 2]\n",
            "  [3 4]]\n",
            "\n",
            " [[5 6]\n",
            "  [7 8]]]\n"
          ]
        }
      ]
    },
    {
      "cell_type": "code",
      "source": [
        "# Get specific element (work outside in)\n",
        "b[0,1,1] #i.e to get to 4 we need first set of matrix inside 2 nd set 2nd item"
      ],
      "metadata": {
        "colab": {
          "base_uri": "https://localhost:8080/"
        },
        "id": "zsADn4Qa7Lm2",
        "outputId": "f7f11ce0-5cb9-46d4-c849-882ccc84ddb4"
      },
      "execution_count": null,
      "outputs": [
        {
          "output_type": "execute_result",
          "data": {
            "text/plain": [
              "4"
            ]
          },
          "metadata": {},
          "execution_count": 4
        }
      ]
    },
    {
      "cell_type": "code",
      "source": [
        "b[:,1,:]"
      ],
      "metadata": {
        "colab": {
          "base_uri": "https://localhost:8080/"
        },
        "id": "dvXhTTVx7WL2",
        "outputId": "138f8f3c-064e-420f-8494-79eb7652db62"
      },
      "execution_count": null,
      "outputs": [
        {
          "output_type": "execute_result",
          "data": {
            "text/plain": [
              "array([[3, 4],\n",
              "       [7, 8]])"
            ]
          },
          "metadata": {},
          "execution_count": 5
        }
      ]
    },
    {
      "cell_type": "code",
      "source": [
        "b[:,1,:] = [[9,9],[8,8]]\n",
        "b[:,1,:]"
      ],
      "metadata": {
        "colab": {
          "base_uri": "https://localhost:8080/"
        },
        "id": "XDeHwmVT7lO2",
        "outputId": "a213f8b6-54fd-4944-856d-4363fc331874"
      },
      "execution_count": null,
      "outputs": [
        {
          "output_type": "execute_result",
          "data": {
            "text/plain": [
              "array([[9, 9],\n",
              "       [8, 8]])"
            ]
          },
          "metadata": {},
          "execution_count": 7
        }
      ]
    },
    {
      "cell_type": "markdown",
      "source": [
        "Initializing Different Types of Arrays"
      ],
      "metadata": {
        "id": "UP5ctSLd7tdu"
      }
    },
    {
      "cell_type": "code",
      "source": [
        "# All 0s matrix and we just need to specify shape\n",
        "np.zeros((2,3))"
      ],
      "metadata": {
        "colab": {
          "base_uri": "https://localhost:8080/"
        },
        "id": "oS4uuuWJ7uM_",
        "outputId": "100c803d-0177-4385-a3b4-6df366c27111"
      },
      "execution_count": null,
      "outputs": [
        {
          "output_type": "execute_result",
          "data": {
            "text/plain": [
              "array([[0., 0., 0.],\n",
              "       [0., 0., 0.]])"
            ]
          },
          "metadata": {},
          "execution_count": 8
        }
      ]
    },
    {
      "cell_type": "code",
      "source": [
        "np.ones((4,2,2))"
      ],
      "metadata": {
        "colab": {
          "base_uri": "https://localhost:8080/"
        },
        "id": "Lk9foCkh7549",
        "outputId": "049832d8-d5a6-4f95-8784-807d354db9ca"
      },
      "execution_count": null,
      "outputs": [
        {
          "output_type": "execute_result",
          "data": {
            "text/plain": [
              "array([[[1., 1.],\n",
              "        [1., 1.]],\n",
              "\n",
              "       [[1., 1.],\n",
              "        [1., 1.]],\n",
              "\n",
              "       [[1., 1.],\n",
              "        [1., 1.]],\n",
              "\n",
              "       [[1., 1.],\n",
              "        [1., 1.]]])"
            ]
          },
          "metadata": {},
          "execution_count": 9
        }
      ]
    },
    {
      "cell_type": "code",
      "source": [
        "np.ones((4,2,2), dtype='int32') #we can also specify the int format for space saving"
      ],
      "metadata": {
        "colab": {
          "base_uri": "https://localhost:8080/"
        },
        "id": "0BzVXc_0783y",
        "outputId": "6ee90715-ff89-483e-dab5-c07e3ec71960"
      },
      "execution_count": null,
      "outputs": [
        {
          "output_type": "execute_result",
          "data": {
            "text/plain": [
              "array([[[1, 1],\n",
              "        [1, 1]],\n",
              "\n",
              "       [[1, 1],\n",
              "        [1, 1]],\n",
              "\n",
              "       [[1, 1],\n",
              "        [1, 1]],\n",
              "\n",
              "       [[1, 1],\n",
              "        [1, 1]]], dtype=int32)"
            ]
          },
          "metadata": {},
          "execution_count": 10
        }
      ]
    },
    {
      "cell_type": "code",
      "source": [
        "#to create a matrix of any other number\n",
        "np.full((2,2), 99)"
      ],
      "metadata": {
        "colab": {
          "base_uri": "https://localhost:8080/"
        },
        "id": "iarid4JC8IRH",
        "outputId": "c49e015b-1d89-42c1-916a-a57868f0c752"
      },
      "execution_count": null,
      "outputs": [
        {
          "output_type": "execute_result",
          "data": {
            "text/plain": [
              "array([[99, 99],\n",
              "       [99, 99]])"
            ]
          },
          "metadata": {},
          "execution_count": 11
        }
      ]
    },
    {
      "cell_type": "code",
      "source": [
        "# Any other number (full_like) by using shape of other matrix\n",
        "np.full_like(a, 4)"
      ],
      "metadata": {
        "colab": {
          "base_uri": "https://localhost:8080/"
        },
        "id": "MwX9Ql-A8ZLe",
        "outputId": "86afb82b-d1fd-4ce3-cd71-6161b9b1b3c0"
      },
      "execution_count": null,
      "outputs": [
        {
          "output_type": "execute_result",
          "data": {
            "text/plain": [
              "array([[4, 4, 4, 4, 4, 4, 4],\n",
              "       [4, 4, 4, 4, 4, 4, 4]])"
            ]
          },
          "metadata": {},
          "execution_count": 14
        }
      ]
    },
    {
      "cell_type": "code",
      "source": [
        "np.full_like(a.shape, 4) #since .shape itself returns a matirx as answer"
      ],
      "metadata": {
        "colab": {
          "base_uri": "https://localhost:8080/"
        },
        "id": "mg32S2438nDZ",
        "outputId": "e291c43f-418b-4ae3-f7d3-a8d07a12668c"
      },
      "execution_count": null,
      "outputs": [
        {
          "output_type": "execute_result",
          "data": {
            "text/plain": [
              "array([4, 4])"
            ]
          },
          "metadata": {},
          "execution_count": 15
        }
      ]
    },
    {
      "cell_type": "code",
      "source": [
        "# Random decimal numbers\n",
        "np.random.rand(4,2)"
      ],
      "metadata": {
        "colab": {
          "base_uri": "https://localhost:8080/"
        },
        "id": "lRikh-mo9BOU",
        "outputId": "cdbc7d5c-ea8c-4ab3-9239-6c0e73e0822e"
      },
      "execution_count": null,
      "outputs": [
        {
          "output_type": "execute_result",
          "data": {
            "text/plain": [
              "array([[0.4992471 , 0.65020028],\n",
              "       [0.21819778, 0.87073487],\n",
              "       [0.75267793, 0.57314776],\n",
              "       [0.15901107, 0.07330082]])"
            ]
          },
          "metadata": {},
          "execution_count": 16
        }
      ]
    },
    {
      "cell_type": "code",
      "source": [
        "# Random Integer values we are specifying range in first 2 parameters\n",
        "np.random.randint(-4,8, size=(3,3)) # don't write shape it's size"
      ],
      "metadata": {
        "colab": {
          "base_uri": "https://localhost:8080/"
        },
        "id": "iN1Z762A9D6l",
        "outputId": "a51e243f-0548-4307-b3de-82942d941b44"
      },
      "execution_count": null,
      "outputs": [
        {
          "output_type": "execute_result",
          "data": {
            "text/plain": [
              "array([[ 6,  4,  0],\n",
              "       [ 0,  7, -3],\n",
              "       [-2,  6,  0]])"
            ]
          },
          "metadata": {},
          "execution_count": 17
        }
      ]
    },
    {
      "cell_type": "code",
      "source": [],
      "metadata": {
        "id": "u8wX0Cgc9SPP"
      },
      "execution_count": null,
      "outputs": []
    },
    {
      "cell_type": "code",
      "source": [
        "# The identity matrix\n",
        "np.identity(5)"
      ],
      "metadata": {
        "colab": {
          "base_uri": "https://localhost:8080/"
        },
        "id": "H3noY0w_9XUc",
        "outputId": "3f3b49ce-3599-4d7b-97c6-8ba82876d08b"
      },
      "execution_count": null,
      "outputs": [
        {
          "output_type": "execute_result",
          "data": {
            "text/plain": [
              "array([[1., 0., 0., 0., 0.],\n",
              "       [0., 1., 0., 0., 0.],\n",
              "       [0., 0., 1., 0., 0.],\n",
              "       [0., 0., 0., 1., 0.],\n",
              "       [0., 0., 0., 0., 1.]])"
            ]
          },
          "metadata": {},
          "execution_count": 18
        }
      ]
    },
    {
      "cell_type": "code",
      "source": [
        "# Repeat an array\n",
        "arr = np.array([[1,2,3]]) #[] is vector [[]] is matrix\n",
        "r1 = np.repeat(arr,3, axis=0)\n",
        "print(r1)"
      ],
      "metadata": {
        "colab": {
          "base_uri": "https://localhost:8080/"
        },
        "id": "j5t5TEbU9kIG",
        "outputId": "f314238e-a688-4fdb-b5cf-026f8f67b437"
      },
      "execution_count": null,
      "outputs": [
        {
          "output_type": "stream",
          "name": "stdout",
          "text": [
            "[[1 2 3]\n",
            " [1 2 3]\n",
            " [1 2 3]]\n"
          ]
        }
      ]
    },
    {
      "cell_type": "code",
      "source": [
        "arr = np.array([[1,2,3]]) #[] is vector [[]] is matrix\n",
        "r1 = np.repeat(arr,3, axis=1)\n",
        "print(r1)"
      ],
      "metadata": {
        "colab": {
          "base_uri": "https://localhost:8080/"
        },
        "id": "SFjBGJw29rRF",
        "outputId": "fc44ef49-0513-4d21-88e1-06082a22859b"
      },
      "execution_count": null,
      "outputs": [
        {
          "output_type": "stream",
          "name": "stdout",
          "text": [
            "[[1 1 1 2 2 2 3 3 3]]\n"
          ]
        }
      ]
    },
    {
      "cell_type": "code",
      "source": [
        "output = np.ones((5,5))\n",
        "print(output)\n",
        "\n",
        "z = np.zeros((3,3))\n",
        "z[1,1] = 9\n",
        "print(z)\n",
        "\n",
        "output[1:4,1:4] = z\n",
        "# or output[1:-1,1:-1] = z\n",
        "print(output)"
      ],
      "metadata": {
        "colab": {
          "base_uri": "https://localhost:8080/"
        },
        "id": "2F0wCiub99iN",
        "outputId": "ba2d8499-9a45-4a12-95f0-0fdcccc8d609"
      },
      "execution_count": null,
      "outputs": [
        {
          "output_type": "stream",
          "name": "stdout",
          "text": [
            "[[1. 1. 1. 1. 1.]\n",
            " [1. 1. 1. 1. 1.]\n",
            " [1. 1. 1. 1. 1.]\n",
            " [1. 1. 1. 1. 1.]\n",
            " [1. 1. 1. 1. 1.]]\n",
            "[[0. 0. 0.]\n",
            " [0. 9. 0.]\n",
            " [0. 0. 0.]]\n",
            "[[1. 1. 1. 1. 1.]\n",
            " [1. 0. 0. 0. 1.]\n",
            " [1. 0. 9. 0. 1.]\n",
            " [1. 0. 0. 0. 1.]\n",
            " [1. 1. 1. 1. 1.]]\n"
          ]
        }
      ]
    },
    {
      "cell_type": "markdown",
      "source": [
        "Copying Arrays"
      ],
      "metadata": {
        "id": "lBv6wNgN-bgZ"
      }
    },
    {
      "cell_type": "code",
      "source": [
        "a = np.array([1,2,3])\n",
        "b = a\n",
        "b[0] = 100\n",
        "\n",
        "print(a) #change of b value also changes a value"
      ],
      "metadata": {
        "colab": {
          "base_uri": "https://localhost:8080/"
        },
        "id": "CcE06rTF-MT2",
        "outputId": "0cad5701-0179-4893-e596-d782d5fa7b7a"
      },
      "execution_count": null,
      "outputs": [
        {
          "output_type": "stream",
          "name": "stdout",
          "text": [
            "[100   2   3]\n"
          ]
        }
      ]
    },
    {
      "cell_type": "code",
      "source": [
        "a = np.array([1,2,3])\n",
        "b = a.copy()\n",
        "b[0] = 100\n",
        "\n",
        "print(a) #use .copy to copy an array"
      ],
      "metadata": {
        "colab": {
          "base_uri": "https://localhost:8080/"
        },
        "id": "1ymrEqBL-T7s",
        "outputId": "47a2c841-709f-4f79-fc8d-9d9567e96089"
      },
      "execution_count": null,
      "outputs": [
        {
          "output_type": "stream",
          "name": "stdout",
          "text": [
            "[1 2 3]\n"
          ]
        }
      ]
    },
    {
      "cell_type": "markdown",
      "source": [
        "Mathematics"
      ],
      "metadata": {
        "id": "-YgIX3uC-Yhn"
      }
    },
    {
      "cell_type": "code",
      "source": [
        "a = np.array([1,2,3,4])\n",
        "print(a)"
      ],
      "metadata": {
        "colab": {
          "base_uri": "https://localhost:8080/"
        },
        "id": "jK7SULrh-eNK",
        "outputId": "c6f43012-7772-424a-a8e6-4b853b64f09d"
      },
      "execution_count": null,
      "outputs": [
        {
          "output_type": "stream",
          "name": "stdout",
          "text": [
            "[1 2 3 4]\n"
          ]
        }
      ]
    },
    {
      "cell_type": "code",
      "source": [
        "a + 2"
      ],
      "metadata": {
        "colab": {
          "base_uri": "https://localhost:8080/"
        },
        "id": "lgxT_OxF-lJj",
        "outputId": "b1fec9ef-bde0-4173-f0f1-f79d267e7d44"
      },
      "execution_count": null,
      "outputs": [
        {
          "output_type": "execute_result",
          "data": {
            "text/plain": [
              "array([3, 4, 5, 6])"
            ]
          },
          "metadata": {},
          "execution_count": 26
        }
      ]
    },
    {
      "cell_type": "code",
      "source": [
        "a - 2"
      ],
      "metadata": {
        "colab": {
          "base_uri": "https://localhost:8080/"
        },
        "id": "pkYbD_l6-oo1",
        "outputId": "bfc5ef10-6f39-4d31-c786-4123c1267f8b"
      },
      "execution_count": null,
      "outputs": [
        {
          "output_type": "execute_result",
          "data": {
            "text/plain": [
              "array([-1,  0,  1,  2])"
            ]
          },
          "metadata": {},
          "execution_count": 27
        }
      ]
    },
    {
      "cell_type": "code",
      "source": [
        "a * 2"
      ],
      "metadata": {
        "colab": {
          "base_uri": "https://localhost:8080/"
        },
        "id": "OZcDnCGb-q_d",
        "outputId": "b4efb009-7d45-47ec-9140-270985c946b2"
      },
      "execution_count": null,
      "outputs": [
        {
          "output_type": "execute_result",
          "data": {
            "text/plain": [
              "array([2, 4, 6, 8])"
            ]
          },
          "metadata": {},
          "execution_count": 28
        }
      ]
    },
    {
      "cell_type": "code",
      "source": [
        "a / 2"
      ],
      "metadata": {
        "colab": {
          "base_uri": "https://localhost:8080/"
        },
        "id": "bstRSPbt-t7N",
        "outputId": "b390d7dd-2777-4f7f-ae7c-1a24a5cd1096"
      },
      "execution_count": null,
      "outputs": [
        {
          "output_type": "execute_result",
          "data": {
            "text/plain": [
              "array([0.5, 1. , 1.5, 2. ])"
            ]
          },
          "metadata": {},
          "execution_count": 29
        }
      ]
    },
    {
      "cell_type": "code",
      "source": [
        "a # a is not changed since we are doing a+2 but not a = a+2"
      ],
      "metadata": {
        "colab": {
          "base_uri": "https://localhost:8080/"
        },
        "id": "vOc2tJ4S-vF1",
        "outputId": "3c587196-7a3d-4762-949b-2750ef54d8e9"
      },
      "execution_count": null,
      "outputs": [
        {
          "output_type": "execute_result",
          "data": {
            "text/plain": [
              "array([1, 2, 3, 4])"
            ]
          },
          "metadata": {},
          "execution_count": 30
        }
      ]
    },
    {
      "cell_type": "code",
      "source": [
        "a**2"
      ],
      "metadata": {
        "colab": {
          "base_uri": "https://localhost:8080/"
        },
        "id": "j-NsHgFg-6Eb",
        "outputId": "b8012684-0906-4636-e915-c21f92c597ab"
      },
      "execution_count": null,
      "outputs": [
        {
          "output_type": "execute_result",
          "data": {
            "text/plain": [
              "array([ 1,  4,  9, 16])"
            ]
          },
          "metadata": {},
          "execution_count": 31
        }
      ]
    },
    {
      "cell_type": "code",
      "source": [
        "np.cos(a)\n",
        "#np.sin(a)"
      ],
      "metadata": {
        "colab": {
          "base_uri": "https://localhost:8080/"
        },
        "id": "xKKN4hho_QXO",
        "outputId": "18ccb138-c5f4-4566-ebe6-1ad87407e362"
      },
      "execution_count": null,
      "outputs": [
        {
          "output_type": "execute_result",
          "data": {
            "text/plain": [
              "array([ 0.84147098,  0.90929743,  0.14112001, -0.7568025 ])"
            ]
          },
          "metadata": {},
          "execution_count": 34
        }
      ]
    },
    {
      "cell_type": "code",
      "source": [
        "b = np.array([1,0,1,0])\n",
        "a + b"
      ],
      "metadata": {
        "colab": {
          "base_uri": "https://localhost:8080/"
        },
        "id": "AML2s2Rd_ymv",
        "outputId": "568456d8-dd70-4ebf-a9ce-2311f470d30d"
      },
      "execution_count": null,
      "outputs": [
        {
          "output_type": "execute_result",
          "data": {
            "text/plain": [
              "array([2, 2, 4, 4])"
            ]
          },
          "metadata": {},
          "execution_count": 35
        }
      ]
    },
    {
      "cell_type": "markdown",
      "source": [
        "Linear Algebra"
      ],
      "metadata": {
        "id": "QEMDgSwt_1VZ"
      }
    },
    {
      "cell_type": "code",
      "source": [
        "a = np.ones((2,3))\n",
        "print(a)\n",
        "\n",
        "b = np.full((3,2), 2)\n",
        "print(b)\n",
        "\n",
        "#matrix multiplication\n",
        "#RULE: no.of columns of first matrix should be equal to no.of rows of second matrix\n",
        "np.matmul(a,b)"
      ],
      "metadata": {
        "colab": {
          "base_uri": "https://localhost:8080/"
        },
        "id": "kOEvE5mT_2Ek",
        "outputId": "1aeb77d3-af3d-488a-a225-951672e2181a"
      },
      "execution_count": null,
      "outputs": [
        {
          "output_type": "stream",
          "name": "stdout",
          "text": [
            "[[1. 1. 1.]\n",
            " [1. 1. 1.]]\n",
            "[[2 2]\n",
            " [2 2]\n",
            " [2 2]]\n"
          ]
        },
        {
          "output_type": "execute_result",
          "data": {
            "text/plain": [
              "array([[6., 6.],\n",
              "       [6., 6.]])"
            ]
          },
          "metadata": {},
          "execution_count": 36
        }
      ]
    },
    {
      "cell_type": "code",
      "source": [
        "# Find the determinant\n",
        "c = np.identity(3)\n",
        "np.linalg.det(c)\n",
        "#since det of indentity matirx is always 1"
      ],
      "metadata": {
        "colab": {
          "base_uri": "https://localhost:8080/"
        },
        "id": "JZAomdqFAwlE",
        "outputId": "33146b01-687f-4259-db30-50236c2cb819"
      },
      "execution_count": null,
      "outputs": [
        {
          "output_type": "execute_result",
          "data": {
            "text/plain": [
              "1.0"
            ]
          },
          "metadata": {},
          "execution_count": 37
        }
      ]
    },
    {
      "cell_type": "markdown",
      "source": [
        "Statistics"
      ],
      "metadata": {
        "id": "C5x_YHEVA6Mj"
      }
    },
    {
      "cell_type": "code",
      "source": [
        "stats = np.array([[1,2,3],[4,5,6]])\n",
        "stats"
      ],
      "metadata": {
        "colab": {
          "base_uri": "https://localhost:8080/"
        },
        "id": "q4rLuHjmA8N3",
        "outputId": "5cd32af3-015b-4e45-f3ff-7f5c217e5a06"
      },
      "execution_count": null,
      "outputs": [
        {
          "output_type": "execute_result",
          "data": {
            "text/plain": [
              "array([[1, 2, 3],\n",
              "       [4, 5, 6]])"
            ]
          },
          "metadata": {},
          "execution_count": 38
        }
      ]
    },
    {
      "cell_type": "code",
      "source": [
        "np.min(stats) #min value"
      ],
      "metadata": {
        "colab": {
          "base_uri": "https://localhost:8080/"
        },
        "id": "CP9HfnQjBBQr",
        "outputId": "f42e1da0-aa56-4d6a-fe27-f0b44dad6e62"
      },
      "execution_count": null,
      "outputs": [
        {
          "output_type": "execute_result",
          "data": {
            "text/plain": [
              "1"
            ]
          },
          "metadata": {},
          "execution_count": 39
        }
      ]
    },
    {
      "cell_type": "code",
      "source": [
        "np.max(stats)"
      ],
      "metadata": {
        "colab": {
          "base_uri": "https://localhost:8080/"
        },
        "id": "oB1POlSnBGDT",
        "outputId": "da75af43-7d94-4c00-cf7f-677a38a18014"
      },
      "execution_count": null,
      "outputs": [
        {
          "output_type": "execute_result",
          "data": {
            "text/plain": [
              "6"
            ]
          },
          "metadata": {},
          "execution_count": 40
        }
      ]
    },
    {
      "cell_type": "code",
      "source": [
        "np.max(stats, axis=1) #get the max value column"
      ],
      "metadata": {
        "colab": {
          "base_uri": "https://localhost:8080/"
        },
        "id": "KFSK2wW8BIvb",
        "outputId": "6c3f4b7a-7351-4e55-a120-02dd44fd5875"
      },
      "execution_count": null,
      "outputs": [
        {
          "output_type": "execute_result",
          "data": {
            "text/plain": [
              "array([3, 6])"
            ]
          },
          "metadata": {},
          "execution_count": 41
        }
      ]
    },
    {
      "cell_type": "code",
      "source": [
        "np.sum(stats) #sum of all"
      ],
      "metadata": {
        "colab": {
          "base_uri": "https://localhost:8080/"
        },
        "id": "OF4iJUGHBUfN",
        "outputId": "c9ed6a56-4889-415d-a499-89fb4661b819"
      },
      "execution_count": null,
      "outputs": [
        {
          "output_type": "execute_result",
          "data": {
            "text/plain": [
              "21"
            ]
          },
          "metadata": {},
          "execution_count": 42
        }
      ]
    },
    {
      "cell_type": "code",
      "source": [
        "np.sum(stats, axis=0) #sum of cols"
      ],
      "metadata": {
        "colab": {
          "base_uri": "https://localhost:8080/"
        },
        "id": "MFbLHng_Biwc",
        "outputId": "9ddddce4-dfc7-44dc-80d9-bac75a413669"
      },
      "execution_count": null,
      "outputs": [
        {
          "output_type": "execute_result",
          "data": {
            "text/plain": [
              "array([5, 7, 9])"
            ]
          },
          "metadata": {},
          "execution_count": 43
        }
      ]
    },
    {
      "cell_type": "code",
      "source": [
        "np.sum(stats, axis=1) #sum of rows"
      ],
      "metadata": {
        "colab": {
          "base_uri": "https://localhost:8080/"
        },
        "id": "KnXNp7gXBmE2",
        "outputId": "b5953977-b095-4c6a-f1b0-faf6416f862a"
      },
      "execution_count": null,
      "outputs": [
        {
          "output_type": "execute_result",
          "data": {
            "text/plain": [
              "array([ 6, 15])"
            ]
          },
          "metadata": {},
          "execution_count": 44
        }
      ]
    },
    {
      "cell_type": "markdown",
      "source": [
        "Reorganizing Arrays"
      ],
      "metadata": {
        "id": "NP7X1ft5CZ_D"
      }
    },
    {
      "cell_type": "code",
      "source": [
        "before = np.array([[1,2,3,4],[5,6,7,8]])\n",
        "print(before)"
      ],
      "metadata": {
        "colab": {
          "base_uri": "https://localhost:8080/"
        },
        "id": "RPQxoJ8sCary",
        "outputId": "34f81e8c-617c-4766-a2f4-ef90d973c7b0"
      },
      "execution_count": null,
      "outputs": [
        {
          "output_type": "stream",
          "name": "stdout",
          "text": [
            "[[1 2 3 4]\n",
            " [5 6 7 8]]\n"
          ]
        }
      ]
    },
    {
      "cell_type": "code",
      "source": [
        "after = before.reshape((4,2))\n",
        "print(after)"
      ],
      "metadata": {
        "colab": {
          "base_uri": "https://localhost:8080/"
        },
        "id": "CGtIPFoFCemG",
        "outputId": "85ad3431-a33b-42ca-8c3d-a2b8cefe3311"
      },
      "execution_count": null,
      "outputs": [
        {
          "output_type": "stream",
          "name": "stdout",
          "text": [
            "[[1 2]\n",
            " [3 4]\n",
            " [5 6]\n",
            " [7 8]]\n"
          ]
        }
      ]
    },
    {
      "cell_type": "code",
      "source": [
        "after = before.reshape((8,1)) #we can reshape array into any shape of same size\n",
        "print(after)"
      ],
      "metadata": {
        "colab": {
          "base_uri": "https://localhost:8080/"
        },
        "id": "Kx4oScl5Coka",
        "outputId": "937bb2e6-4f68-49c3-af5b-252a812b0b62"
      },
      "execution_count": null,
      "outputs": [
        {
          "output_type": "stream",
          "name": "stdout",
          "text": [
            "[[1]\n",
            " [2]\n",
            " [3]\n",
            " [4]\n",
            " [5]\n",
            " [6]\n",
            " [7]\n",
            " [8]]\n"
          ]
        }
      ]
    },
    {
      "cell_type": "code",
      "source": [
        "after = before.reshape((2,2,2))\n",
        "print(after)"
      ],
      "metadata": {
        "colab": {
          "base_uri": "https://localhost:8080/"
        },
        "id": "8H9tdeKpCxaF",
        "outputId": "4960519d-4578-4665-a118-e784855b5c11"
      },
      "execution_count": null,
      "outputs": [
        {
          "output_type": "stream",
          "name": "stdout",
          "text": [
            "[[[1 2]\n",
            "  [3 4]]\n",
            "\n",
            " [[5 6]\n",
            "  [7 8]]]\n"
          ]
        }
      ]
    },
    {
      "cell_type": "code",
      "source": [
        "# Vertically stacking vectors\n",
        "v1 = np.array([1,2,3,4])\n",
        "v2 = np.array([5,6,7,8])\n",
        "\n",
        "d = np.vstack([v1,v2,v1,v2])\n",
        "d"
      ],
      "metadata": {
        "id": "jyYmSu-gC90M",
        "outputId": "feafec04-9c41-4175-c66a-f38df4e378e5",
        "colab": {
          "base_uri": "https://localhost:8080/"
        }
      },
      "execution_count": null,
      "outputs": [
        {
          "output_type": "execute_result",
          "data": {
            "text/plain": [
              "array([[1, 2, 3, 4],\n",
              "       [5, 6, 7, 8],\n",
              "       [1, 2, 3, 4],\n",
              "       [5, 6, 7, 8]])"
            ]
          },
          "metadata": {},
          "execution_count": 51
        }
      ]
    },
    {
      "cell_type": "code",
      "source": [
        "# Horizontal  stack\n",
        "h1 = np.ones((2,4))\n",
        "h2 = np.zeros((2,2))\n",
        "\n",
        "np.hstack((h1,h2))"
      ],
      "metadata": {
        "id": "yt-umkEdDDGV",
        "outputId": "d70ebfe7-db2f-4193-c5bb-781ba5b800f1",
        "colab": {
          "base_uri": "https://localhost:8080/"
        }
      },
      "execution_count": null,
      "outputs": [
        {
          "output_type": "execute_result",
          "data": {
            "text/plain": [
              "array([[1., 1., 1., 1., 0., 0.],\n",
              "       [1., 1., 1., 1., 0., 0.]])"
            ]
          },
          "metadata": {},
          "execution_count": 52
        }
      ]
    }
  ]
}